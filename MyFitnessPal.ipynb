{
 "cells": [
  {
   "cell_type": "code",
   "execution_count": 5,
   "metadata": {},
   "outputs": [
    {
     "name": "stdin",
     "output_type": "stream",
     "text": [
      "Hoeveel koekjes heb je gehad? 5\n"
     ]
    }
   ],
   "source": [
    "fatass = input(\"Hoeveel koekjes heb je gehad?\")"
   ]
  },
  {
   "cell_type": "code",
   "execution_count": 6,
   "metadata": {},
   "outputs": [
    {
     "name": "stdout",
     "output_type": "stream",
     "text": [
      "250 11.5 41.5 23.5\n"
     ]
    }
   ],
   "source": [
    "oreo_calories = 50\n",
    "oreo_fats = 2.3\n",
    "oreo_carbs = 8.3\n",
    "oreo_protein = 4.7\n",
    "\n",
    "aantal = int(fatass)\n",
    "\n",
    "calories = aantal * oreo_calories\n",
    "fats = aantal * oreo_fats\n",
    "carbs = aantal * oreo_carbs\n",
    "protein = aantal * oreo_protein\n",
    "\n",
    "print(calories, fats, carbs, protein)"
   ]
  },
  {
   "cell_type": "code",
   "execution_count": null,
   "metadata": {},
   "outputs": [],
   "source": []
  }
 ],
 "metadata": {
  "kernelspec": {
   "display_name": "Python 3",
   "language": "python",
   "name": "python3"
  },
  "language_info": {
   "codemirror_mode": {
    "name": "ipython",
    "version": 3
   },
   "file_extension": ".py",
   "mimetype": "text/x-python",
   "name": "python",
   "nbconvert_exporter": "python",
   "pygments_lexer": "ipython3",
   "version": "3.7.3"
  }
 },
 "nbformat": 4,
 "nbformat_minor": 2
}
